{
 "cells": [
  {
   "cell_type": "code",
   "execution_count": 5,
   "metadata": {},
   "outputs": [],
   "source": [
    "import numpy as np\n",
    "import matplotlib.pyplot as plt\n",
    "import scipy.stats\n",
    "import scipy.optimize \n",
    "from scipy.optimize import curve_fit\n",
    "import pandas as pd\n",
    "import math"
   ]
  },
  {
   "cell_type": "code",
   "execution_count": 6,
   "metadata": {},
   "outputs": [],
   "source": [
    "# %%\n",
    "#Defining all functions that will be used in program\n",
    "def csv_to_np(filename):\n",
    "    #filemane is a csv of xrd data with the first column being two-theta \n",
    "    # and subsequent columns being xray intensities\n",
    "    data = pd.read_csv(filename)\n",
    "    return(np.array(data))\n",
    "\n",
    "def norm(x):\n",
    "    #returns normalized version of an array\n",
    "    return x/np.nanmax(x)\n",
    "\n",
    "def two_to_q(two_theta, wave):\n",
    "    #two_theta is a 1D array of two_theta angles\n",
    "    #wave is the X-ray energy in angstroms\n",
    "    rad_theta = two_theta/2*np.pi/180\n",
    "    q = 4*np.pi*np.sin(rad_theta)/wave\n",
    "    return q\n",
    "\n",
    "def find_nearest(array, value):\n",
    "    #array is a 1D vector of two_theta or q values\n",
    "    #value is the specific angle or q for which you want the index\n",
    "    array = np.asarray(array)\n",
    "    idx = (np.abs(array - value)).argmin()\n",
    "    return idx\n",
    "\n",
    "def trim_data(x, data, limit1, limit2):\n",
    "    #x is a 1D array of two theta or q values\n",
    "    #data is an array of x-ray intensities\n",
    "    #limit1 and limit2 are what you'd like to trime your data to \n",
    "    set1 = find_nearest(x,limit1)\n",
    "    set2 = find_nearest(x,limit2)\n",
    "    return x[set1:set2], data[set1:set2,:]\n",
    "\n",
    "def back_subtract(x, data, length):\n",
    "    #x is a 1D array of two theta or q values\n",
    "    #data is an array of x-ray intensities\n",
    "    #length is the number of values on the edges of the data you want to use to create a linear background \n",
    "    x_linear = np.hstack((x[0:length], x[-length:-1])) #I'm taking the starting and ending values\n",
    "    data_linear = np.hstack((data[0:length], data[-length:-1])) #We'll use these to fit a straight line\n",
    "    slope, intercept = np.polyfit(x_linear, data_linear, 1) #Do linear fit\n",
    "    back = slope*x+intercept \n",
    "    data_correct=(data-back)\n",
    "    return data_correct\n",
    "\n",
    "def gaussian(x, a, b, c): \n",
    "    #generic gaussian curve, for XRD analysis:\n",
    "    #x is a 1D array of two theta or q values\n",
    "    #a is the max intensity of the peak and representative of crystalling\n",
    "    #b is the peak position and \n",
    "    # c is the FWHM\n",
    "    return a*np.exp(-(x - b)**2/(2*c**2))\n",
    "\n",
    "def normal_gaussian(x, a, b): \n",
    "    #nomralized gaussian curve for XRD analysis:\n",
    "    #x is a 1D array of two theta or q values\n",
    "    #a is the peak position and \n",
    "    #b is the FWHM\n",
    "    return 2/b*sqrt(ln(2)/math.pi)*np.exp(-4*ln(2)/b**2*(x - a)**2)\n",
    "\n",
    "def two_gaussians(x, a1, b1, c1, a2, b2, c2):\n",
    "        return (gaussian(x, a1, b1, c1) +\n",
    "            gaussian(x, a2, b2, c2))\n",
    "\n",
    "def multi_gaussian(x, guesses):\n",
    "    #NOTE This function does not work with curve fitting yet TBD\n",
    "    # x is 1D array of 2-theta or q values for our fitting\n",
    "    # trips is an array of fits i.e. [[200, 1, .01], [150, 1.05. .02]]\n",
    "    peaks = [gaussian(x, fit[0], fit[1], fit[2]) for fit in guesses]\n",
    "    return np.sum(peaks, axis=0)\n",
    "\n",
    "# Define three peak fitting\n",
    "def three_gaussians(x, a1, b1, c1, a2, b2, c2, a3, b3, c3):\n",
    "    return (gaussian(x, a1, b1, c1) +\n",
    "            gaussian(x, a2, b2, c2)+ #this would be your initial peak center in Q\n",
    "            gaussian(x, a3, b3, c3))\n",
    "def normal_gaussian(x, a, b, c): \n",
    "    #nomralized gaussian curve for XRD analysis:\n",
    "    #x is a 1D array of two theta or q values\n",
    "    #a is the instensity \n",
    "    #b is the peak position and \n",
    "    #c is the variance (FWHM = sqrt(2ln2)*c)\n",
    "    return a/(c*np.sqrt(2*math.pi))*np.exp(-(x - b)**2/(2*c**2))\n",
    "\n",
    "def lorentz(x, a, b, c):\n",
    "    #generic lorentzian curve, for xrd analysis\n",
    "    #x is a 1D array of two theta or q values\n",
    "    #a is the max intensity of the peak and representative of crystalling\n",
    "    #b is the peak position and \n",
    "    # c is the FWHM\n",
    "    return a/np.pi*((c/2)/((x-b)**2+(c/2)**2))\n",
    "\n",
    "def pvoigt(x, e, a, b, c):\n",
    "    #pseudovoigt curve common in xrd analysis\n",
    "    #linear combination of lorentzian and gaussian curves\n",
    "    #e is the fraction that is lorentzian\n",
    "    c_g = c/(2*np.sqrt(2*np.log(2)))\n",
    "    return e*lorentz(x, a, b, c) + (1-e)*normal_gaussian(x,a,b,c_g)\n",
    "    \n",
    "def mult_pvoigt(x, e, a, b, c, a2, b2, c2, a3, b3, c3):\n",
    "    return pvoigt(x, e, a, b, c) + pvoigt(x, e, a2, b2, c2) +  pvoigt(x, e, a3, b3, c3) \n",
    "\n",
    "def q_to_a(center,plane):\n",
    "    #center is the center of an xrd peak\n",
    "    #plane is a list of the formal [h,k,l]\n",
    "    a = 2*math.pi*math.sqrt(plane[0]**2+plane[1]**2+plane[2]**2)/center\n",
    "    return a\n",
    "\n",
    "def num_files(data):\n",
    "    #data is the file you are currently analyzing\n",
    "    #returns columns of data (i.e. frames for XRD data from SSRL)\n",
    "    size = data.shape\n",
    "    return size[1]\n",
    "\n",
    "def q_to_chem(center,plane):\n",
    "    #center is the center of an xrd peak\n",
    "    #plane is a list of the formal [h,k,l]\n",
    "    #takes peak position in q and converts it to bromine percentage\n",
    "    #using linear fit for bromine fraction on lattice spacing\n",
    "    slope = -0.3637\n",
    "    intercept = 6.2841\n",
    "    br_frac = 1/slope*(q_to_a(center,plane)-intercept)\n",
    "    return br_frac\n",
    "\n",
    "def frames_to_time(x,speed,start_lag):\n",
    "    #x=num_frames\n",
    "    #speed=shutter speed in s\n",
    "    #start_lag=t at x=0\n",
    "    seconds=np.array([(x*speed)+ start_lag])\n",
    "    return seconds\n",
    "\n",
    "def perovtopbi2(q, intensity):\n",
    "    #array is a 1D vector of  q values\n",
    "    #intensity is a 1D vector of perovskite intensities\n",
    "    leadiodide_q = 0.9 #rough q of lead iodide peak \n",
    "    pad = 10 #number of points around leadiodide_q to look for true max\n",
    "    peak = find_nearest(q,leadiodide_q)\n",
    "    leadiodide_inensity = max(intensity[peak-pad:peak+pad])\n",
    "    ratio = max(intensity)/leadiodide_inensity\n",
    "    return ratio"
   ]
  },
  {
   "cell_type": "code",
   "execution_count": 7,
   "metadata": {},
   "outputs": [],
   "source": [
    "# %% Create dictionary for storing analyzed results - to be run at the start of a new session\n",
    "samplelist = []\n",
    "results = {\"Sample\":\"Results\"}"
   ]
  },
  {
   "cell_type": "code",
   "execution_count": 8,
   "metadata": {},
   "outputs": [],
   "source": [
    "#%% Import Data\n",
    "samplename = 'lighton_c1'\n",
    "perov_import = csv_to_np('/Users/grace/Desktop/wellesley solar/' + samplename + '.csv')\n",
    "light_on = 1 # if light on set to 1 else set to 0\n",
    "interval = 2 # time interval between frames in minutes\n"
   ]
  },
  {
   "cell_type": "code",
   "execution_count": 9,
   "metadata": {},
   "outputs": [],
   "source": [
    "# Covert to Q\n",
    "q = two_to_q(perov_import[:,0],0.982381)\n",
    "perov = perov_import[:,1:] #seperate XRD intensities from rest of data \n"
   ]
  },
  {
   "cell_type": "code",
   "execution_count": 10,
   "metadata": {},
   "outputs": [],
   "source": [
    "# Trim and Remove Background\n",
    "miller = [2, 0, 0] #peak you are trying to capture\n",
    "q_1 = 1.92 #lower limit in q\n",
    "q_2 = 2.18 # upper limit in q \n",
    "q_sub, perov_sub = trim_data(q,perov,q_1,q_2)\n",
    "perov_fit = perov_sub\n",
    "files = num_files(perov_sub)\n",
    "for file in range(files): \n",
    "    perov_fit[:,file] = back_subtract(q_sub,perov_sub[:,file],10) #remove background from that file"
   ]
  },
  {
   "cell_type": "code",
   "execution_count": 11,
   "metadata": {},
   "outputs": [],
   "source": [
    "# Initialize parameters of interest\n",
    "files = num_files(perov)\n",
    "time = np.arange(0, files*interval, interval) + interval/2 #time interval of the experiment\n"
   ]
  },
  {
   "cell_type": "code",
   "execution_count": 12,
   "metadata": {},
   "outputs": [
    {
     "data": {
      "image/png": "[encoded data removed]",
      "text/plain": [
       "<Figure size 432x288 with 1 Axes>"
      ]
     },
     "metadata": {
      "needs_background": "light"
     },
     "output_type": "display_data"
    }
   ],
   "source": [
    "#  Do Curve Fitting of Initial Frame (assumes if light is on, new composition)\n",
    "if light_on:\n",
    "    image = 0 #index of file you want to look at\n",
    "p0 = [0.2, 300, 2, .01] #best guess for initial values in format [a1, b1, c1, a2, c2, a3, b3, c3]\n",
    "upper_limit = [1, 3000, q_2, 5]\n",
    "lower_limit = [0, 0, q_1, 0]\n",
    "popt,pcov = curve_fit(pvoigt, q_sub, perov_fit[:,image], p0, bounds=(lower_limit, upper_limit), maxfev=6000)\n",
    "plt.plot(q_sub,perov_fit[:,image],'b-', label='Data') #plot subfield of data\n",
    "plt.plot(q_sub,pvoigt(q_sub, *popt),'c--', label='Model') #plot best fit\n",
    "init_q = popt[2] #this is the inital peak position that will be used as a reference\n",
    "FWHM = popt[3] "
   ]
  },
  {
   "cell_type": "code",
   "execution_count": 13,
   "metadata": {},
   "outputs": [],
   "source": [
    "# %% Dynamics of Process\n",
    "#  Plot Integrated Intensity over time\n",
    "totalintensity = np.zeros(files)\n",
    "for frame in range(files):\n",
    "    totalintensity[frame] = sum(perov_fit[:,frame])"
   ]
  },
  {
   "cell_type": "code",
   "execution_count": 14,
   "metadata": {},
   "outputs": [
    {
     "data": {
      "text/plain": [
       "Text(0, 0.5, 'Integrated Intensity [Normalized]')"
      ]
     },
     "execution_count": 14,
     "metadata": {},
     "output_type": "execute_result"
    },
    {
     "data": {
      "image/png": "[encoded data removed]",
      "text/plain": [
       "<Figure size 432x288 with 1 Axes>"
      ]
     },
     "metadata": {
      "needs_background": "light"
     },
     "output_type": "display_data"
    }
   ],
   "source": [
    "plt.plot(time, totalintensity/totalintensity[0], 'r--')\n",
    "plt.xlabel('Time [min]',size=14) #Define x-axis label\n",
    "plt.ylabel('Integrated Intensity [Normalized]',size=14)#Define y-axis label"
   ]
  },
  {
   "cell_type": "code",
   "execution_count": 15,
   "metadata": {},
   "outputs": [],
   "source": [
    "# Plot Binned Intenisty\n",
    "iod_bin = np.zeros(files)\n",
    "orig_bin = np.zeros(files)\n",
    "brom_bin = np.zeros(files)"
   ]
  },
  {
   "cell_type": "code",
   "execution_count": 16,
   "metadata": {},
   "outputs": [],
   "source": [
    "iod_lim = find_nearest(q_sub, init_q-FWHM)\n",
    "brom_lim = find_nearest(q_sub, init_q+FWHM)"
   ]
  },
  {
   "cell_type": "code",
   "execution_count": 17,
   "metadata": {},
   "outputs": [],
   "source": [
    "for frame in range(files):\n",
    "    iod_bin[frame] = sum(perov_fit[0:iod_lim,frame])\n",
    "    orig_bin[frame] = sum(perov_fit[iod_lim:brom_lim,frame])\n",
    "    brom_bin[frame] = sum(perov_fit[brom_lim:,frame])"
   ]
  },
  {
   "cell_type": "code",
   "execution_count": 18,
   "metadata": {},
   "outputs": [
    {
     "data": {
      "text/plain": [
       "Text(0.5, 1.0, 'C1 Binned Intensity Dynamics')"
      ]
     },
     "execution_count": 18,
     "metadata": {},
     "output_type": "execute_result"
    },
    {
     "data": {
      "image/png": "[encoded data removed]",
      "text/plain": [
       "<Figure size 432x288 with 1 Axes>"
      ]
     },
     "metadata": {
      "needs_background": "light"
     },
     "output_type": "display_data"
    }
   ],
   "source": [
    "plt.plot(time, iod_bin, 'r.')\n",
    "plt.plot(time, orig_bin, 'k.')\n",
    "plt.plot(time, brom_bin, 'b.')\n",
    "plt.plot(time, brom_bin+iod_bin+orig_bin, 'k-')\n",
    "\n",
    "plt.xlabel('Time [min]',size=14) #Define x-axis label\n",
    "plt.ylabel('Binned Intensity [a.u.]',size=14)#Define y-axis label\n",
    "plt.title('C1 Binned Intensity Dynamics')"
   ]
  },
  {
   "cell_type": "code",
   "execution_count": 19,
   "metadata": {},
   "outputs": [
    {
     "name": "stdout",
     "output_type": "stream",
     "text": [
      "['lighton_c1']\n"
     ]
    }
   ],
   "source": [
    "# %% Save Variables\n",
    "samplelist.append(samplename) #creates a list of the samples you've looked at this session\n",
    "datatostore = [time, totalintensity, iod_bin, orig_bin, brom_bin] #creates a list of relevant data\n",
    "results[samplename] = datatostore #adds an item to a dictionary where the sample name is linked to these results\n",
    "print(samplelist)"
   ]
  },
  {
   "cell_type": "code",
   "execution_count": null,
   "metadata": {},
   "outputs": [],
   "source": [
    "##first fitting attempt--writing function\n",
    "##gives single value instead of fit"
   ]
  },
  {
   "cell_type": "code",
   "execution_count": 20,
   "metadata": {},
   "outputs": [],
   "source": [
    "##ionic transport (light on)\n",
    "def ionfunc(x, a, g, t, r):\n",
    "    return a*np.exp(g/(2*t*r))\n",
    "\n"
   ]
  },
  {
   "cell_type": "code",
   "execution_count": 21,
   "metadata": {},
   "outputs": [
    {
     "name": "stdout",
     "output_type": "stream",
     "text": [
      "122.20157290222761\n"
     ]
    }
   ],
   "source": [
    "#ion transport orig bin\n",
    "p0 = [1,10^-3,300,8]\n",
    "\n",
    "\n",
    "popt, pcov = curve_fit(ionfunc, time, orig_bin, p0, maxfev=8000)\n",
    "orig_ion = ionfunc(time, *popt)\n",
    "#orig_ion=np.array([ionfunc(time, *popt)])\n",
    "print(orig_ion) ##should be array w/ shape (30,) but prints only single value"
   ]
  },
  {
   "cell_type": "code",
   "execution_count": 22,
   "metadata": {},
   "outputs": [
    {
     "name": "stdout",
     "output_type": "stream",
     "text": [
      "[153.22718579]\n"
     ]
    }
   ],
   "source": [
    "#ion transport iodine bin\n",
    "p0 = [1,10^-6,300,8]\n",
    "\n",
    "popt, pcov = curve_fit(ionfunc, time, iod_bin, p0)\n",
    "\n",
    "iod_ion=np.array([ionfunc(time, *popt)])\n",
    "print(iod_ion) ##should be array w/ shape (30,) but prints only single value"
   ]
  },
  {
   "cell_type": "code",
   "execution_count": 23,
   "metadata": {},
   "outputs": [
    {
     "name": "stdout",
     "output_type": "stream",
     "text": [
      "[134.66689802]\n"
     ]
    }
   ],
   "source": [
    "#ion transport bromine bin\n",
    "p0 = [1,10^-6,300,8]\n",
    "\n",
    "popt, pcov = curve_fit(ionfunc, time, brom_bin, p0)\n",
    "\n",
    "brom_ion=np.array([ionfunc(time, *popt)])\n",
    "print(brom_ion) ##should be array w/ shape (30,) but prints only single value"
   ]
  },
  {
   "cell_type": "code",
   "execution_count": 36,
   "metadata": {},
   "outputs": [],
   "source": [
    "##second fitting attempt--lmfit Exponential Model\n",
    "##works great for decay (orig bin) but can't figure out how to accurately model \n",
    "##growth (br and i regions)"
   ]
  },
  {
   "cell_type": "code",
   "execution_count": 24,
   "metadata": {},
   "outputs": [
    {
     "name": "stdout",
     "output_type": "stream",
     "text": [
      "Requirement already satisfied: lmfit in c:\\users\\grace\\anaconda3\\lib\\site-packages (1.0.2)\n",
      "Requirement already satisfied: asteval>=0.9.16 in c:\\users\\grace\\anaconda3\\lib\\site-packages (from lmfit) (0.9.23)\n",
      "Requirement already satisfied: uncertainties>=3.0.1 in c:\\users\\grace\\anaconda3\\lib\\site-packages (from lmfit) (3.1.4)\n",
      "Requirement already satisfied: numpy>=1.16 in c:\\users\\grace\\anaconda3\\lib\\site-packages (from lmfit) (1.16.5)\n",
      "Requirement already satisfied: scipy>=1.2 in c:\\users\\grace\\anaconda3\\lib\\site-packages (from lmfit) (1.3.1)\n",
      "Requirement already satisfied: future in c:\\users\\grace\\anaconda3\\lib\\site-packages (from uncertainties>=3.0.1->lmfit) (0.17.1)\n",
      "Note: you may need to restart the kernel to use updated packages.\n"
     ]
    }
   ],
   "source": [
    "pip install lmfit"
   ]
  },
  {
   "cell_type": "code",
   "execution_count": 33,
   "metadata": {},
   "outputs": [
    {
     "name": "stdout",
     "output_type": "stream",
     "text": [
      "       x\n",
      "0    1.0\n",
      "1    3.0\n",
      "2    5.0\n",
      "3    7.0\n",
      "4    9.0\n",
      "5   11.0\n",
      "6   13.0\n",
      "7   15.0\n",
      "8   17.0\n",
      "9   19.0\n",
      "10  21.0\n",
      "11  23.0\n",
      "12  25.0\n",
      "13  27.0\n",
      "14  29.0\n",
      "15  31.0\n",
      "16  33.0\n",
      "17  35.0\n",
      "18  37.0\n",
      "19  39.0\n",
      "20  41.0\n",
      "21  43.0\n",
      "22  45.0\n",
      "23  47.0\n",
      "24  49.0\n",
      "25  51.0\n",
      "26  53.0\n",
      "27  55.0\n",
      "28  57.0\n",
      "29  59.0\n",
      "<class 'pandas.core.frame.DataFrame'>\n",
      "             y\n",
      "0   343.872970\n",
      "1   303.318083\n",
      "2   272.881152\n",
      "3   249.550483\n",
      "4   227.417324\n",
      "5   208.461916\n",
      "6   186.648651\n",
      "7   165.571548\n",
      "8   148.237079\n",
      "9   130.547373\n",
      "10  119.636069\n",
      "11  110.190428\n",
      "12  100.725510\n",
      "13   93.483011\n",
      "14   86.098213\n",
      "15   81.070104\n",
      "16   78.294888\n",
      "17   73.635540\n",
      "18   70.231558\n",
      "19   67.384320\n",
      "20   63.736808\n",
      "21   60.834896\n",
      "22   59.578691\n",
      "23   57.731924\n",
      "24   54.730716\n",
      "25   53.003188\n",
      "26   52.342720\n",
      "27   50.998790\n",
      "28   48.841499\n",
      "29   46.988499\n",
      "<class 'pandas.core.frame.DataFrame'>\n"
     ]
    },
    {
     "data": {
      "image/png": "[encoded data removed]",
      "text/plain": [
       "<Figure size 432x288 with 1 Axes>"
      ]
     },
     "metadata": {
      "needs_background": "light"
     },
     "output_type": "display_data"
    },
    {
     "name": "stdout",
     "output_type": "stream",
     "text": [
      "[[Model]]\n",
      "    Model(exponential)\n",
      "[[Fit Statistics]]\n",
      "    # fitting method   = leastsq\n",
      "    # function evals   = 16\n",
      "    # data points      = 30\n",
      "    # variables        = 2\n",
      "    chi-square         = 4544.63656\n",
      "    reduced chi-square = 162.308449\n",
      "    Akaike info crit   = 154.615170\n",
      "    Bayesian info crit = 157.417564\n",
      "[[Variables]]\n",
      "    amplitude:  337.616933 +/- 7.76618933 (2.30%) (init = 278.8456)\n",
      "    decay:      22.9486141 +/- 0.78714193 (3.43%) (init = 29.36963)\n",
      "[[Correlations]] (unreported correlations are < 0.100)\n",
      "    C(amplitude, decay) = -0.726\n"
     ]
    }
   ],
   "source": [
    "from lmfit.models import ExponentialModel\n",
    "model= ExponentialModel()\n",
    "\n",
    "df_time = pd.DataFrame(time, columns = ['x'])\n",
    "\n",
    "print(df_time)\n",
    "print(type(df_time))\n",
    "\n",
    "df_orig = pd.DataFrame(orig_bin, columns = ['y'])\n",
    "\n",
    "print(df_orig)\n",
    "print(type(df_orig))\n",
    "\n",
    "params = model.guess(df_orig['y'], x=df_time['x'])\n",
    "\n",
    "result = model.fit(df_orig['y'], params, x=df_time['x'])\n",
    "\n",
    "result_orig=result\n",
    "\n",
    "result_orig.plot_fit()\n",
    "plt.show()\n",
    "\n",
    "print(result_orig.fit_report())"
   ]
  },
  {
   "cell_type": "code",
   "execution_count": 39,
   "metadata": {},
   "outputs": [
    {
     "name": "stdout",
     "output_type": "stream",
     "text": [
      "             y\n",
      "0    34.773408\n",
      "1    59.657635\n",
      "2    72.090921\n",
      "3    88.142755\n",
      "4   101.546407\n",
      "5   110.502303\n",
      "6   123.043573\n",
      "7   128.616699\n",
      "8   139.385961\n",
      "9   141.228926\n",
      "10  149.388183\n",
      "11  152.912673\n",
      "12  149.930378\n",
      "13  153.620143\n",
      "14  152.282660\n",
      "15  154.063840\n",
      "16  157.068562\n",
      "17  149.971798\n",
      "18  156.339426\n",
      "19  151.877987\n",
      "20  151.521126\n",
      "21  150.871571\n",
      "22  152.839334\n",
      "23  152.726034\n",
      "24  152.540391\n",
      "25  150.878147\n",
      "26  153.861427\n",
      "27  150.380098\n",
      "28  150.694795\n",
      "29  147.240804\n",
      "<class 'pandas.core.frame.DataFrame'>\n"
     ]
    },
    {
     "data": {
      "image/png": "[encoded data removed]",
      "text/plain": [
       "<Figure size 432x288 with 1 Axes>"
      ]
     },
     "metadata": {
      "needs_background": "light"
     },
     "output_type": "display_data"
    },
    {
     "name": "stdout",
     "output_type": "stream",
     "text": [
      "[[Model]]\n",
      "    Model(exponential)\n",
      "[[Fit Statistics]]\n",
      "    # fitting method   = leastsq\n",
      "    # function evals   = 13\n",
      "    # data points      = 30\n",
      "    # variables        = 2\n",
      "    chi-square         = 15057.5206\n",
      "    reduced chi-square = 537.768591\n",
      "    Akaike info crit   = 190.553064\n",
      "    Bayesian info crit = 193.355459\n",
      "[[Variables]]\n",
      "    amplitude:  101.949936 +/- 7.34194338 (7.20%) (init = 86.05594)\n",
      "    decay:     -111.956753 +/- 23.1045326 (20.64%) (init = -74.32466)\n",
      "[[Correlations]] (unreported correlations are < 0.100)\n",
      "    C(amplitude, decay) = -0.902\n"
     ]
    }
   ],
   "source": [
    "model= ExponentialModel()\n",
    "\n",
    "df_time = pd.DataFrame(time, columns = ['x'])\n",
    "\n",
    "\n",
    "df_brom = pd.DataFrame(brom_bin, columns = ['y'])\n",
    "\n",
    "print(df_brom)\n",
    "print(type(df_brom))\n",
    "\n",
    "params = model.guess(df_brom['y'], x=df_time['x'])\n",
    "\n",
    "result = model.fit(df_brom['y'], params, x=df_time['x'])\n",
    "\n",
    "result_brom=result\n",
    "\n",
    "result_brom.plot_fit()\n",
    "plt.show()\n",
    "\n",
    "print(result_brom.fit_report())"
   ]
  },
  {
   "cell_type": "code",
   "execution_count": 40,
   "metadata": {},
   "outputs": [
    {
     "name": "stdout",
     "output_type": "stream",
     "text": [
      "             y\n",
      "0    19.907103\n",
      "1    35.693885\n",
      "2    50.260165\n",
      "3    57.206083\n",
      "4    71.877674\n",
      "5    81.073989\n",
      "6    95.273567\n",
      "7   102.799844\n",
      "8   116.988170\n",
      "9   126.192909\n",
      "10  137.861452\n",
      "11  148.657975\n",
      "12  158.327243\n",
      "13  163.474616\n",
      "14  165.237252\n",
      "15  173.478871\n",
      "16  184.339332\n",
      "17  184.265333\n",
      "18  194.575273\n",
      "19  194.654888\n",
      "20  198.647876\n",
      "21  200.656177\n",
      "22  206.986882\n",
      "23  213.681499\n",
      "24  213.156345\n",
      "25  215.651918\n",
      "26  219.425206\n",
      "27  220.852350\n",
      "28  223.655669\n",
      "29  221.960326\n",
      "<class 'pandas.core.frame.DataFrame'>\n"
     ]
    },
    {
     "data": {
      "image/png": "[encoded data removed]",
      "text/plain": [
       "<Figure size 432x288 with 1 Axes>"
      ]
     },
     "metadata": {
      "needs_background": "light"
     },
     "output_type": "display_data"
    },
    {
     "name": "stdout",
     "output_type": "stream",
     "text": [
      "[[Model]]\n",
      "    Model(exponential)\n",
      "[[Fit Statistics]]\n",
      "    # fitting method   = leastsq\n",
      "    # function evals   = 13\n",
      "    # data points      = 30\n",
      "    # variables        = 2\n",
      "    chi-square         = 19132.4493\n",
      "    reduced chi-square = 683.301761\n",
      "    Akaike info crit   = 197.738311\n",
      "    Bayesian info crit = 200.540706\n",
      "[[Variables]]\n",
      "    amplitude:  79.9876867 +/- 6.73620228 (8.42%) (init = 54.21863)\n",
      "    decay:     -50.0649712 +/- 4.83259165 (9.65%) (init = -33.14445)\n",
      "[[Correlations]] (unreported correlations are < 0.100)\n",
      "    C(amplitude, decay) = -0.938\n"
     ]
    }
   ],
   "source": [
    "model= ExponentialModel()\n",
    "\n",
    "df_time = pd.DataFrame(time, columns = ['x'])\n",
    "\n",
    "\n",
    "df_iod = pd.DataFrame(iod_bin, columns = ['y'])\n",
    "\n",
    "print(df_iod)\n",
    "print(type(df_iod))\n",
    "\n",
    "params = model.guess(df_iod['y'], x=df_time['x'])\n",
    "\n",
    "result = model.fit(df_iod['y'], params, x=df_time['x'])\n",
    "\n",
    "result_iod=result\n",
    "\n",
    "result_iod.plot_fit()\n",
    "plt.show()\n",
    "\n",
    "print(result_iod.fit_report())"
   ]
  },
  {
   "cell_type": "code",
   "execution_count": 42,
   "metadata": {},
   "outputs": [
    {
     "data": {
      "text/plain": [
       "Text(0.5, 1.0, 'C1 Binned Intensity Dynamics')"
      ]
     },
     "execution_count": 42,
     "metadata": {},
     "output_type": "execute_result"
    },
    {
     "data": {
      "image/png": "[encoded data removed]",
      "text/plain": [
       "<Figure size 432x288 with 1 Axes>"
      ]
     },
     "metadata": {
      "needs_background": "light"
     },
     "output_type": "display_data"
    }
   ],
   "source": [
    "#plt with models\n",
    "plt.plot(time, iod_bin, 'r.')\n",
    "plt.plot(time, orig_bin, 'k.')\n",
    "plt.plot(time, brom_bin, 'b.')\n",
    "plt.plot(time, brom_bin+iod_bin+orig_bin, 'k-')\n",
    "#plt.plot(time, ionfunc(time,*popt), 'k-', label='Model')\n",
    "result_iod.plot_fit()\n",
    "result_brom.plot_fit()\n",
    "result_orig.plot_fit()\n",
    "\n",
    "plt.xlabel('Time [min]',size=14) #Define x-axis label\n",
    "plt.ylabel('Binned Intensity [a.u.]',size=14)#Define y-axis label\n",
    "plt.title('C1 Binned Intensity Dynamics')"
   ]
  },
  {
   "cell_type": "code",
   "execution_count": null,
   "metadata": {},
   "outputs": [],
   "source": [
    "###Having trouble selecting model to use for diffusion \n",
    "##assuming 2nd order ODE??\n",
    "##thus, struggling to either write function or use pydiffusion"
   ]
  },
  {
   "cell_type": "code",
   "execution_count": null,
   "metadata": {},
   "outputs": [],
   "source": [
    "##diffusion (light off)\n",
    "##would be used to fit other c1 dataset \n",
    "\n",
    "#need to decide between Fick's 2nd Law, Arrhenius diffusion, or other\n",
    "\n",
    "#def difffunc(x, other params ):\n",
    "    #return funct\n",
    "\n",
    "#popt, pcov = curve_fit(difffunc, x, y)"
   ]
  }
 ],
 "metadata": {
  "kernelspec": {
   "display_name": "Python 3",
   "language": "python",
   "name": "python3"
  },
  "language_info": {
   "codemirror_mode": {
    "name": "ipython",
    "version": 3
   },
   "file_extension": ".py",
   "mimetype": "text/x-python",
   "name": "python",
   "nbconvert_exporter": "python",
   "pygments_lexer": "ipython3",
   "version": "3.7.4"
  }
 },
 "nbformat": 4,
 "nbformat_minor": 2
}
