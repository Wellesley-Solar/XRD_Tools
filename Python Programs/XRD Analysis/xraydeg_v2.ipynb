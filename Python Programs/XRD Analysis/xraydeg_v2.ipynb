{
 "cells": [
  {
   "cell_type": "code",
   "execution_count": 1,
   "metadata": {},
   "outputs": [],
   "source": [
    "#xraydeg_v2 made on 2/1/21 by Jill Mankoff\n",
    "#first code block is xrdtools.pl\n",
    "#second code block is xraydeg.pl made by gabe halford and augmented by me (jill mankoff)\n",
    "#augmentation included using indices to more carefully pinpoint the lead iodide and <100> peaks\n",
    "#grubbs test added given the number of outliers"
   ]
  },
  {
   "cell_type": "code",
   "execution_count": 2,
   "metadata": {},
   "outputs": [],
   "source": [
    "#%%\n",
    "import numpy as np\n",
    "import math\n",
    "import matplotlib.pyplot as plt\n",
    "import scipy.stats\n",
    "import scipy.optimize \n",
    "import pandas as pd\n",
    "\n",
    "# %%\n",
    "#Defining all functions that will be used in program\n",
    "def csv_to_np(filename):\n",
    "    #filemane is a csv of xrd data with the first column being two-theta \n",
    "    # and subsequent columns being xray intensities\n",
    "    data = pd.read_csv(filename)\n",
    "    return(np.array(data))\n",
    "\n",
    "def norm(x):\n",
    "    #returns normalized version of an array\n",
    "    return x/np.nanmax(x)\n",
    "\n",
    "def two_to_q(two_theta, wave):\n",
    "    #two_theta is a 1D array of two_theta angles\n",
    "    #wave is the X-ray energy in angstroms\n",
    "    rad_theta = two_theta/2*np.pi/180\n",
    "    q = 4*np.pi*np.sin(rad_theta)/wave\n",
    "    return q\n",
    "\n",
    "def find_nearest(array, value):\n",
    "    #array is a 1D vector of two_theta or q values\n",
    "    #value is the specific angle or q for which you want the index\n",
    "    array = np.asarray(array)\n",
    "    idx = (np.abs(array - value)).argmin()\n",
    "    return idx\n",
    "\n",
    "def trim_data(x, data, limit1, limit2):\n",
    "    #x is a 1D array of two theta or q values\n",
    "    #data is an array of x-ray intensities\n",
    "    #limit1 and limit2 are what you'd like to trime your data to \n",
    "    set1 = find_nearest(x,limit1)\n",
    "    set2 = find_nearest(x,limit2)\n",
    "    return x[set1:set2], data[set1:set2,:]\n",
    "\n",
    "def back_subtract(x, data, length):\n",
    "    #x is a 1D array of two theta or q values\n",
    "    #data is an array of x-ray intensities\n",
    "    #length is the number of values on the edges of the data you want to use to create a linear background \n",
    "    x_linear = np.hstack((x[0:length], x[-length:-1])) #I'm taking the starting and ending values\n",
    "    data_linear = np.hstack((data[0:length], data[-length:-1])) #We'll use these to fit a straight line\n",
    "    slope, intercept = np.polyfit(x_linear, data_linear, 1) #Do linear fit\n",
    "    back = slope*x+intercept \n",
    "    data_correct=(data-back)\n",
    "    return data_correct\n",
    "\n",
    "def gaussian(x, a, b, c): \n",
    "    #generic gaussian curve, for XRD analysis:\n",
    "    #x is a 1D array of two theta or q values\n",
    "    #a is the max intensity of the peak and representative of crystalling\n",
    "    #b is the peak position and \n",
    "    # c is the FWHM\n",
    "    return a*np.exp(-(x - b)**2/(2*c**2))\n",
    "\n",
    "def normal_gaussian(x, a, b): \n",
    "    #nomralized gaussian curve for XRD analysis:\n",
    "    #x is a 1D array of two theta or q values\n",
    "    #a is the peak position and \n",
    "    #b is the FWHM\n",
    "    return 2/b*sqrt(ln(2)/math.pi)*np.exp(-4*ln(2)/b**2*(x - a)**2)\n",
    "\n",
    "def two_gaussians(x, a1, b1, c1, a2, b2, c2):\n",
    "        return (gaussian(x, a1, b1, c1) +\n",
    "            gaussian(x, a2, b2, c2))\n",
    "\n",
    "def multi_gaussian(x, guesses):\n",
    "    #NOTE This function does not work with curve fitting yet TBD\n",
    "    # x is 1D array of 2-theta or q values for our fitting\n",
    "    # trips is an array of fits i.e. [[200, 1, .01], [150, 1.05. .02]]\n",
    "    peaks = [gaussian(x, fit[0], fit[1], fit[2]) for fit in guesses]\n",
    "    return np.sum(peaks, axis=0)\n",
    "\n",
    "# Define three peak fitting\n",
    "def three_gaussians(x, a1, b1, c1, a2, b2, c2, a3, b3, c3):\n",
    "    return (gaussian(x, a1, b1, c1) +\n",
    "            gaussian(x, a2, b2, c2)+ #this would be your initial peak center in Q\n",
    "            gaussian(x, a3, b3, c3))\n",
    "def normal_gaussian(x, a, b, c): \n",
    "    #nomralized gaussian curve for XRD analysis:\n",
    "    #x is a 1D array of two theta or q values\n",
    "    #a is the instensity \n",
    "    #b is the peak position and \n",
    "    #c is the variance (FWHM = sqrt(2ln2)*c)\n",
    "    return a/(c*np.sqrt(2*math.pi))*np.exp(-(x - b)**2/(2*c**2))\n",
    "\n",
    "def lorentz(x, a, b, c):\n",
    "    #generic lorentzian curve, for xrd analysis\n",
    "    #x is a 1D array of two theta or q values\n",
    "    #a is the max intensity of the peak and representative of crystalling\n",
    "    #b is the peak position and \n",
    "    # c is the FWHM\n",
    "    return a/np.pi*((c/2)/((x-b)**2+(c/2)**2))\n",
    "\n",
    "def pvoigt(x, e, a, b, c):\n",
    "    #pseudovoigt curve common in xrd analysis\n",
    "    #linear combination of lorentzian and gaussian curves\n",
    "    #e is the fraction that is lorentzian\n",
    "    c_g = c/(2*np.sqrt(2*np.log(2)))\n",
    "    return e*lorentz(x, a, b, c) + (1-e)*normal_gaussian(x,a,b,c_g)\n",
    "    \n",
    "def mult_pvoigt(x, e, a, b, c, a2, b2, c2, a3, b3, c3):\n",
    "    return pvoigt(x, e, a, b, c) + pvoigt(x, e, a2, b2, c2) +  pvoigt(x, e, a3, b3, c3) \n",
    "\n",
    "def q_to_a(center,plane):\n",
    "    #center is the center of an xrd peak\n",
    "    #plane is a list of the formal [h,k,l]\n",
    "    a = 2*math.pi*math.sqrt(plane[0]**2+plane[1]**2+plane[2]**2)/center\n",
    "    return a\n",
    "\n",
    "def num_files(data):\n",
    "    #data is the file you are currently analyzing\n",
    "    #returns columns of data (i.e. frames for XRD data from SSRL)\n",
    "    size = data.shape\n",
    "    return size[1]\n",
    "\n",
    "def q_to_chem(center,plane):\n",
    "    #center is the center of an xrd peak\n",
    "    #plane is a list of the formal [h,k,l]\n",
    "    #takes peak position in q and converts it to bromine percentage\n",
    "    #using linear fit for bromine fraction on lattice spacing\n",
    "    slope = -0.3637\n",
    "    intercept = 6.2841\n",
    "    br_frac = 1/slope*(q_to_a(center,plane)-intercept)\n",
    "    return br_frac\n",
    "\n",
    "def frames_to_time(x,speed,start_lag):\n",
    "    #x=num_frames\n",
    "    #speed=shutter speed in s\n",
    "    #start_lag=t at x=0\n",
    "    seconds=np.array([(x*speed)+ start_lag])\n",
    "    return seconds\n",
    "\n",
    "def perovtopbi2(q, intensity):\n",
    "    #array is a 1D vector of  q values\n",
    "    #intensity is a 1D vector of perovskite intensities\n",
    "    leadiodide_q = 0.9 #rough q of lead iodide peak \n",
    "    pad = 10 #number of points around leadiodide_q to look for true max\n",
    "    peak = find_nearest(q,leadiodide_q)\n",
    "    leadiodide_inensity = max(intensity[peak-pad:peak+pad])\n",
    "    ratio = max(intensity)/leadiodide_inensity\n",
    "    return ratio"
   ]
  },
  {
   "cell_type": "code",
   "execution_count": 51,
   "metadata": {},
   "outputs": [
    {
     "data": {
      "text/plain": [
       "[<matplotlib.lines.Line2D at 0x1a232ece80>]"
      ]
     },
     "execution_count": 51,
     "metadata": {},
     "output_type": "execute_result"
    },
    {
     "data": {
      "text/plain": [
       "<Figure size 360x288 with 0 Axes>"
      ]
     },
     "metadata": {},
     "output_type": "display_data"
    },
    {
     "data": {
      "image/png": "[encoded data removed]",
      "text/plain": [
       "<Figure size 432x288 with 1 Axes>"
      ]
     },
     "metadata": {
      "needs_background": "light"
     },
     "output_type": "display_data"
    }
   ],
   "source": [
    "#my redo of gabe's code using indices for finding the lead iodide peak and the 100 peak\n",
    "#%%This is a program for calculating the lead iodide to perovskite (100) peak ratio over time\n",
    "import numpy as np\n",
    "import matplotlib.pyplot as plt\n",
    "import scipy.stats\n",
    "import pandas as pd\n",
    "#%% Import Data\n",
    "perov_import = csv_to_np('/Volumes/GoogleDrive/Shared drives/Wellesley Solar/Current Projects/ Hoke Effect/Xraydeg/integrations 020121/E1_xraydeg_020121.csv')\n",
    "\n",
    "#%% Covert to Q\n",
    "q = two_to_q(perov_import[:,0],0.982381)\n",
    "perov = perov_import[:,1:] #seperate XRD intensities from rest of data \n",
    "\n",
    "#%% #Trim to isolate first peaks and Remove Background\n",
    "miller = [1, 0, 0] #peak you are trying to capture\n",
    "q_1 = 0.8\n",
    "q_2 = 1.15\n",
    "q_n, perov_sub = trim_data(q,perov,q_1,q_2)\n",
    "perov_fit = perov_sub\n",
    "files = num_files(perov_sub)\n",
    "for file in range(files): \n",
    "    perov_fit[:,file] = back_subtract(q_n,perov_sub[:,file],10) #remove background from that file\n",
    "# %% make a array of values of maximums for lead and <1,0,0> peak\n",
    "files = num_files(perov)\n",
    "time = np.zeros(files)\n",
    "lead = np.zeros(files)\n",
    "max_100 = np.zeros(files)\n",
    "\n",
    "for frame in range(files): \n",
    "    time[frame] = frame*20\n",
    "    current = perov_fit[:,frame]\n",
    "    lead[frame]=max(current[20:60])\n",
    "    max_100[frame]=max(current[60:118])\n",
    "ratio = lead/max_100   \n",
    "\n",
    "#%%use grubbs test to remove outliers in ratio\n",
    "g_min = min(ratio)\n",
    "g_max = max(ratio)\n",
    "g_calc_min = abs(g_min-np.mean(ratio))/np.std(ratio)\n",
    "g_calc_max=abs(g_max-np.mean(ratio))/np.std(ratio)\n",
    "if g_calc_min > 1.96:\n",
    "    ind_min = np.where(ratio == g_min)\n",
    "    ratio[ind_min]= None\n",
    "else:\n",
    "    pass\n",
    "if g_calc_max > 1.96:\n",
    "    ind_max = np.where(ratio == g_max)\n",
    "    ratio[ind_max]= None\n",
    "else:\n",
    "    pass\n",
    "# %% Plot result over time\n",
    "plt.figure(num = 1, figsize=(5,4))\n",
    "fig1,ax1 = plt.subplots()\n",
    "ax1.set_xlabel('Time [s]',size=14) #Define x-axis label\n",
    "ax1.set_ylabel('$Perovskite$ (100)/$PbI_2$ (001)',size=14)#Define y-axis label\n",
    "ax1.set_ylim([0,0.075])\n",
    "plt.plot(time,ratio, 'ko')"
   ]
  },
  {
   "cell_type": "code",
   "execution_count": 39,
   "metadata": {},
   "outputs": [
    {
     "data": {
      "text/plain": [
       "(array([1]),)"
      ]
     },
     "execution_count": 39,
     "metadata": {},
     "output_type": "execute_result"
    }
   ],
   "source": [
    "np.where(ratio == g_max)"
   ]
  },
  {
   "cell_type": "code",
   "execution_count": 89,
   "metadata": {},
   "outputs": [
    {
     "data": {
      "text/plain": [
       "[<matplotlib.lines.Line2D at 0x1a25544518>]"
      ]
     },
     "execution_count": 89,
     "metadata": {},
     "output_type": "execute_result"
    },
    {
     "data": {
      "image/png": "[encoded data removed]",
      "text/plain": [
       "<Figure size 432x288 with 1 Axes>"
      ]
     },
     "metadata": {
      "needs_background": "light"
     },
     "output_type": "display_data"
    }
   ],
   "source": [
    "ints = perov_fit[:,6]\n",
    "#lead iodide peak range = 0:60 for trim\n",
    "#[100] peak range = 60:118 for trim\n",
    "#plt.plot(q[90:145],ints[90:145])\n",
    "#plt.plot(q[150:180],ints[150:180])\n",
    "plt.plot(q_n[20:60],ints[20:60],'ko')\n",
    "\n"
   ]
  },
  {
   "cell_type": "code",
   "execution_count": 5,
   "metadata": {},
   "outputs": [
    {
     "data": {
      "text/plain": [
       "2.0"
      ]
     },
     "execution_count": 5,
     "metadata": {},
     "output_type": "execute_result"
    }
   ],
   "source": [
    "np.mean([1,2,3])"
   ]
  },
  {
   "cell_type": "code",
   "execution_count": null,
   "metadata": {},
   "outputs": [],
   "source": []
  }
 ],
 "metadata": {
  "kernelspec": {
   "display_name": "Python 3",
   "language": "python",
   "name": "python3"
  },
  "language_info": {
   "codemirror_mode": {
    "name": "ipython",
    "version": 3
   },
   "file_extension": ".py",
   "mimetype": "text/x-python",
   "name": "python",
   "nbconvert_exporter": "python",
   "pygments_lexer": "ipython3",
   "version": "3.7.3"
  }
 },
 "nbformat": 4,
 "nbformat_minor": 2
}
